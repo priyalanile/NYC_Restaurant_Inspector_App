{
 "cells": [
  {
   "cell_type": "code",
   "execution_count": null,
   "id": "93ab065e",
   "metadata": {},
   "outputs": [],
   "source": [
    "import pandas as pd"
   ]
  },
  {
   "cell_type": "code",
   "execution_count": 20,
   "id": "5be64587",
   "metadata": {},
   "outputs": [
    {
     "data": {
      "text/html": [
       "<div>\n",
       "<style scoped>\n",
       "    .dataframe tbody tr th:only-of-type {\n",
       "        vertical-align: middle;\n",
       "    }\n",
       "\n",
       "    .dataframe tbody tr th {\n",
       "        vertical-align: top;\n",
       "    }\n",
       "\n",
       "    .dataframe thead th {\n",
       "        text-align: right;\n",
       "    }\n",
       "</style>\n",
       "<table border=\"1\" class=\"dataframe\">\n",
       "  <thead>\n",
       "    <tr style=\"text-align: right;\">\n",
       "      <th></th>\n",
       "      <th>CAMIS</th>\n",
       "      <th>DBA</th>\n",
       "      <th>BORO</th>\n",
       "      <th>BUILDING</th>\n",
       "      <th>STREET</th>\n",
       "      <th>ZIPCODE</th>\n",
       "      <th>PHONE</th>\n",
       "      <th>CUISINE DESCRIPTION</th>\n",
       "      <th>INSPECTION DATE</th>\n",
       "      <th>ACTION</th>\n",
       "      <th>...</th>\n",
       "      <th>INSPECTION TYPE</th>\n",
       "      <th>Latitude</th>\n",
       "      <th>Longitude</th>\n",
       "      <th>Community Board</th>\n",
       "      <th>Council District</th>\n",
       "      <th>Census Tract</th>\n",
       "      <th>BIN</th>\n",
       "      <th>BBL</th>\n",
       "      <th>NTA</th>\n",
       "      <th>Location Point1</th>\n",
       "    </tr>\n",
       "  </thead>\n",
       "  <tbody>\n",
       "    <tr>\n",
       "      <th>0</th>\n",
       "      <td>50110288</td>\n",
       "      <td>BAR BRUNO</td>\n",
       "      <td>Brooklyn</td>\n",
       "      <td>560</td>\n",
       "      <td>MANHATTAN AVENUE</td>\n",
       "      <td>11222.0</td>\n",
       "      <td>9177235743</td>\n",
       "      <td>Mexican</td>\n",
       "      <td>10/27/2024</td>\n",
       "      <td>Violations were cited in the following area(s).</td>\n",
       "      <td>...</td>\n",
       "      <td>Cycle Inspection / Initial Inspection</td>\n",
       "      <td>40.722414</td>\n",
       "      <td>-73.949994</td>\n",
       "      <td>301.0</td>\n",
       "      <td>33.0</td>\n",
       "      <td>56900.0</td>\n",
       "      <td>3066749.0</td>\n",
       "      <td>3.026800e+09</td>\n",
       "      <td>BK76</td>\n",
       "      <td>NaN</td>\n",
       "    </tr>\n",
       "    <tr>\n",
       "      <th>1</th>\n",
       "      <td>41491686</td>\n",
       "      <td>JOSE SEAFOOD</td>\n",
       "      <td>Queens</td>\n",
       "      <td>8104</td>\n",
       "      <td>ROOSEVELT AVENUE</td>\n",
       "      <td>11372.0</td>\n",
       "      <td>6467407130</td>\n",
       "      <td>Seafood</td>\n",
       "      <td>01/09/2025</td>\n",
       "      <td>Violations were cited in the following area(s).</td>\n",
       "      <td>...</td>\n",
       "      <td>Cycle Inspection / Re-inspection</td>\n",
       "      <td>40.747537</td>\n",
       "      <td>-73.884687</td>\n",
       "      <td>404.0</td>\n",
       "      <td>25.0</td>\n",
       "      <td>26901.0</td>\n",
       "      <td>4036861.0</td>\n",
       "      <td>4.014920e+09</td>\n",
       "      <td>QN29</td>\n",
       "      <td>NaN</td>\n",
       "    </tr>\n",
       "    <tr>\n",
       "      <th>2</th>\n",
       "      <td>50121654</td>\n",
       "      <td>WESTVILLE</td>\n",
       "      <td>Manhattan</td>\n",
       "      <td>88</td>\n",
       "      <td>7 AVENUE</td>\n",
       "      <td>10011.0</td>\n",
       "      <td>2129242223</td>\n",
       "      <td>American</td>\n",
       "      <td>02/05/2024</td>\n",
       "      <td>Violations were cited in the following area(s).</td>\n",
       "      <td>...</td>\n",
       "      <td>Pre-permit (Operational) / Initial Inspection</td>\n",
       "      <td>40.739561</td>\n",
       "      <td>-73.998957</td>\n",
       "      <td>104.0</td>\n",
       "      <td>3.0</td>\n",
       "      <td>8100.0</td>\n",
       "      <td>1013775.0</td>\n",
       "      <td>1.007650e+09</td>\n",
       "      <td>MN13</td>\n",
       "      <td>NaN</td>\n",
       "    </tr>\n",
       "    <tr>\n",
       "      <th>3</th>\n",
       "      <td>50064637</td>\n",
       "      <td>MCDONALD'S</td>\n",
       "      <td>Bronx</td>\n",
       "      <td>925</td>\n",
       "      <td>HUNTS POINT AVENUE</td>\n",
       "      <td>10459.0</td>\n",
       "      <td>7182158275</td>\n",
       "      <td>Hamburgers</td>\n",
       "      <td>05/19/2025</td>\n",
       "      <td>Violations were cited in the following area(s).</td>\n",
       "      <td>...</td>\n",
       "      <td>Cycle Inspection / Initial Inspection</td>\n",
       "      <td>40.820427</td>\n",
       "      <td>-73.890985</td>\n",
       "      <td>202.0</td>\n",
       "      <td>17.0</td>\n",
       "      <td>8900.0</td>\n",
       "      <td>2005886.0</td>\n",
       "      <td>2.027350e+09</td>\n",
       "      <td>BX27</td>\n",
       "      <td>NaN</td>\n",
       "    </tr>\n",
       "    <tr>\n",
       "      <th>4</th>\n",
       "      <td>50125519</td>\n",
       "      <td>COMMON ADDRESS</td>\n",
       "      <td>Manhattan</td>\n",
       "      <td>305</td>\n",
       "      <td>WEST   60 STREET</td>\n",
       "      <td>10023.0</td>\n",
       "      <td>2672658213</td>\n",
       "      <td>Coffee/Tea</td>\n",
       "      <td>12/28/2023</td>\n",
       "      <td>Violations were cited in the following area(s).</td>\n",
       "      <td>...</td>\n",
       "      <td>Cycle Inspection / Initial Inspection</td>\n",
       "      <td>40.772610</td>\n",
       "      <td>-73.990941</td>\n",
       "      <td>107.0</td>\n",
       "      <td>6.0</td>\n",
       "      <td>15100.0</td>\n",
       "      <td>1088869.0</td>\n",
       "      <td>1.011718e+09</td>\n",
       "      <td>MN14</td>\n",
       "      <td>NaN</td>\n",
       "    </tr>\n",
       "  </tbody>\n",
       "</table>\n",
       "<p>5 rows × 27 columns</p>\n",
       "</div>"
      ],
      "text/plain": [
       "      CAMIS             DBA       BORO BUILDING              STREET  ZIPCODE  \\\n",
       "0  50110288       BAR BRUNO   Brooklyn      560    MANHATTAN AVENUE  11222.0   \n",
       "1  41491686    JOSE SEAFOOD     Queens     8104    ROOSEVELT AVENUE  11372.0   \n",
       "2  50121654       WESTVILLE  Manhattan       88            7 AVENUE  10011.0   \n",
       "3  50064637      MCDONALD'S      Bronx      925  HUNTS POINT AVENUE  10459.0   \n",
       "4  50125519  COMMON ADDRESS  Manhattan      305    WEST   60 STREET  10023.0   \n",
       "\n",
       "        PHONE CUISINE DESCRIPTION INSPECTION DATE  \\\n",
       "0  9177235743             Mexican      10/27/2024   \n",
       "1  6467407130             Seafood      01/09/2025   \n",
       "2  2129242223            American      02/05/2024   \n",
       "3  7182158275          Hamburgers      05/19/2025   \n",
       "4  2672658213          Coffee/Tea      12/28/2023   \n",
       "\n",
       "                                            ACTION  ...  \\\n",
       "0  Violations were cited in the following area(s).  ...   \n",
       "1  Violations were cited in the following area(s).  ...   \n",
       "2  Violations were cited in the following area(s).  ...   \n",
       "3  Violations were cited in the following area(s).  ...   \n",
       "4  Violations were cited in the following area(s).  ...   \n",
       "\n",
       "                                 INSPECTION TYPE   Latitude  Longitude  \\\n",
       "0          Cycle Inspection / Initial Inspection  40.722414 -73.949994   \n",
       "1               Cycle Inspection / Re-inspection  40.747537 -73.884687   \n",
       "2  Pre-permit (Operational) / Initial Inspection  40.739561 -73.998957   \n",
       "3          Cycle Inspection / Initial Inspection  40.820427 -73.890985   \n",
       "4          Cycle Inspection / Initial Inspection  40.772610 -73.990941   \n",
       "\n",
       "   Community Board Council District Census Tract        BIN           BBL  \\\n",
       "0            301.0             33.0      56900.0  3066749.0  3.026800e+09   \n",
       "1            404.0             25.0      26901.0  4036861.0  4.014920e+09   \n",
       "2            104.0              3.0       8100.0  1013775.0  1.007650e+09   \n",
       "3            202.0             17.0       8900.0  2005886.0  2.027350e+09   \n",
       "4            107.0              6.0      15100.0  1088869.0  1.011718e+09   \n",
       "\n",
       "    NTA  Location Point1  \n",
       "0  BK76              NaN  \n",
       "1  QN29              NaN  \n",
       "2  MN13              NaN  \n",
       "3  BX27              NaN  \n",
       "4  MN14              NaN  \n",
       "\n",
       "[5 rows x 27 columns]"
      ]
     },
     "execution_count": 20,
     "metadata": {},
     "output_type": "execute_result"
    }
   ],
   "source": [
    "import pandas as pd\n",
    "\n",
    "url = \"https://data.cityofnewyork.us/api/views/43nn-pn8j/rows.csv?accessType=DOWNLOAD\"\n",
    "df = pd.read_csv(url)\n",
    "df.head()"
   ]
  },
  {
   "cell_type": "code",
   "execution_count": 21,
   "id": "3bc997e9",
   "metadata": {},
   "outputs": [],
   "source": [
    "#Saving a local copy of dataset:\n",
    "df.to_csv(\"nyc_restaurant_inspections.csv\", index=False)"
   ]
  },
  {
   "cell_type": "markdown",
   "id": "229c6848",
   "metadata": {},
   "source": [
    "### 1. Loading the dataset from Local"
   ]
  },
  {
   "cell_type": "code",
   "execution_count": 22,
   "id": "8acc626c",
   "metadata": {},
   "outputs": [],
   "source": [
    "#Reading data from local file now:\n",
    "import pandas as pd\n",
    "df = pd.read_csv(\"nyc_restaurant_inspections.csv\")"
   ]
  },
  {
   "cell_type": "code",
   "execution_count": 23,
   "id": "bdbae301",
   "metadata": {},
   "outputs": [
    {
     "name": "stdout",
     "output_type": "stream",
     "text": [
      "(283693, 27)\n"
     ]
    }
   ],
   "source": [
    "print(df.shape) #283K Rows, 27 Columns."
   ]
  },
  {
   "cell_type": "code",
   "execution_count": 24,
   "id": "fc5e73ef",
   "metadata": {},
   "outputs": [
    {
     "name": "stdout",
     "output_type": "stream",
     "text": [
      "Index(['CAMIS', 'DBA', 'BORO', 'BUILDING', 'STREET', 'ZIPCODE', 'PHONE',\n",
      "       'CUISINE DESCRIPTION', 'INSPECTION DATE', 'ACTION', 'VIOLATION CODE',\n",
      "       'VIOLATION DESCRIPTION', 'CRITICAL FLAG', 'SCORE', 'GRADE',\n",
      "       'GRADE DATE', 'RECORD DATE', 'INSPECTION TYPE', 'Latitude', 'Longitude',\n",
      "       'Community Board', 'Council District', 'Census Tract', 'BIN', 'BBL',\n",
      "       'NTA', 'Location Point1'],\n",
      "      dtype='object')\n"
     ]
    }
   ],
   "source": [
    "print(df.columns)"
   ]
  },
  {
   "cell_type": "code",
   "execution_count": 25,
   "id": "50afeb80",
   "metadata": {},
   "outputs": [
    {
     "name": "stdout",
     "output_type": "stream",
     "text": [
      "<class 'pandas.core.frame.DataFrame'>\n",
      "RangeIndex: 283693 entries, 0 to 283692\n",
      "Data columns (total 27 columns):\n",
      " #   Column                 Non-Null Count   Dtype  \n",
      "---  ------                 --------------   -----  \n",
      " 0   CAMIS                  283693 non-null  int64  \n",
      " 1   DBA                    283689 non-null  object \n",
      " 2   BORO                   283693 non-null  object \n",
      " 3   BUILDING               283388 non-null  object \n",
      " 4   STREET                 283688 non-null  object \n",
      " 5   ZIPCODE                280877 non-null  float64\n",
      " 6   PHONE                  283684 non-null  object \n",
      " 7   CUISINE DESCRIPTION    280635 non-null  object \n",
      " 8   INSPECTION DATE        283693 non-null  object \n",
      " 9   ACTION                 280635 non-null  object \n",
      " 10  VIOLATION CODE         278730 non-null  object \n",
      " 11  VIOLATION DESCRIPTION  278730 non-null  object \n",
      " 12  CRITICAL FLAG          283693 non-null  object \n",
      " 13  SCORE                  268844 non-null  float64\n",
      " 14  GRADE                  138420 non-null  object \n",
      " 15  GRADE DATE             129341 non-null  object \n",
      " 16  RECORD DATE            283693 non-null  object \n",
      " 17  INSPECTION TYPE        280635 non-null  object \n",
      " 18  Latitude               283325 non-null  float64\n",
      " 19  Longitude              283325 non-null  float64\n",
      " 20  Community Board        280330 non-null  float64\n",
      " 21  Council District       280353 non-null  float64\n",
      " 22  Census Tract           280353 non-null  float64\n",
      " 23  BIN                    278958 non-null  float64\n",
      " 24  BBL                    283141 non-null  float64\n",
      " 25  NTA                    280330 non-null  object \n",
      " 26  Location Point1        0 non-null       float64\n",
      "dtypes: float64(10), int64(1), object(16)\n",
      "memory usage: 58.4+ MB\n"
     ]
    }
   ],
   "source": [
    "df.info() #To see column names, non-null counts, data type, memory usage"
   ]
  },
  {
   "cell_type": "code",
   "execution_count": 26,
   "id": "f089b661",
   "metadata": {},
   "outputs": [
    {
     "data": {
      "text/plain": [
       "Location Point1          283693\n",
       "GRADE DATE               154352\n",
       "GRADE                    145273\n",
       "SCORE                     14849\n",
       "VIOLATION CODE             4963\n",
       "VIOLATION DESCRIPTION      4963\n",
       "BIN                        4735\n",
       "Community Board            3363\n",
       "NTA                        3363\n",
       "Census Tract               3340\n",
       "Council District           3340\n",
       "ACTION                     3058\n",
       "CUISINE DESCRIPTION        3058\n",
       "INSPECTION TYPE            3058\n",
       "ZIPCODE                    2816\n",
       "BBL                         552\n",
       "Latitude                    368\n",
       "Longitude                   368\n",
       "BUILDING                    305\n",
       "PHONE                         9\n",
       "STREET                        5\n",
       "DBA                           4\n",
       "CAMIS                         0\n",
       "INSPECTION DATE               0\n",
       "BORO                          0\n",
       "RECORD DATE                   0\n",
       "CRITICAL FLAG                 0\n",
       "dtype: int64"
      ]
     },
     "execution_count": 26,
     "metadata": {},
     "output_type": "execute_result"
    }
   ],
   "source": [
    "#To check for missing values:\n",
    "df.isnull().sum().sort_values(ascending=False)"
   ]
  },
  {
   "cell_type": "code",
   "execution_count": 27,
   "id": "48e2012d",
   "metadata": {},
   "outputs": [
    {
     "name": "stdout",
     "output_type": "stream",
     "text": [
      "              CAMIS        ZIPCODE          SCORE       Latitude  \\\n",
      "count  2.836930e+05  280877.000000  268844.000000  283325.000000   \n",
      "mean   4.787590e+07   10706.821036      24.315759      40.323326   \n",
      "std    3.864796e+06     594.665619      18.256669       4.037119   \n",
      "min    3.007544e+07    8512.000000       0.000000       0.000000   \n",
      "25%    5.000020e+07   10023.000000      12.000000      40.684884   \n",
      "50%    5.008253e+07   11101.000000      20.000000      40.731394   \n",
      "75%    5.012002e+07   11231.000000      32.000000      40.761126   \n",
      "max    5.017080e+07   28217.000000     168.000000      40.912822   \n",
      "\n",
      "           Longitude  Community Board  Council District   Census Tract  \\\n",
      "count  283325.000000    280330.000000     280353.000000  280353.000000   \n",
      "mean      -73.207829       254.946410         20.726106   29716.582701   \n",
      "std         7.328830       130.232816         15.761379   31161.067901   \n",
      "min       -74.249101       101.000000          1.000000     100.000000   \n",
      "25%       -73.988967       106.000000          4.000000    8000.000000   \n",
      "50%       -73.956678       302.000000         20.000000   17200.000000   \n",
      "75%       -73.896123       401.000000         34.000000   42100.000000   \n",
      "max         0.000000       595.000000         51.000000  162100.000000   \n",
      "\n",
      "                BIN           BBL  Location Point1  \n",
      "count  2.789580e+05  2.831410e+05              0.0  \n",
      "mean   2.581566e+06  2.476581e+09              NaN  \n",
      "std    1.350238e+06  1.335307e+09              NaN  \n",
      "min    1.000000e+06  1.000000e+00              NaN  \n",
      "25%    1.051601e+06  1.011150e+09              NaN  \n",
      "50%    3.021353e+06  3.007940e+09              NaN  \n",
      "75%    4.008998e+06  4.005950e+09              NaN  \n",
      "max    5.799501e+06  5.270001e+09              NaN  \n"
     ]
    }
   ],
   "source": [
    "print(df.describe())"
   ]
  },
  {
   "cell_type": "markdown",
   "id": "0028e597",
   "metadata": {},
   "source": [
    "### 2. Exploratory Data Analysis:"
   ]
  },
  {
   "cell_type": "code",
   "execution_count": 28,
   "id": "c081b524",
   "metadata": {},
   "outputs": [
    {
     "name": "stdout",
     "output_type": "stream",
     "text": [
      "(283693, 27)\n",
      "<class 'pandas.core.frame.DataFrame'>\n",
      "RangeIndex: 283693 entries, 0 to 283692\n",
      "Data columns (total 27 columns):\n",
      " #   Column                 Non-Null Count   Dtype  \n",
      "---  ------                 --------------   -----  \n",
      " 0   CAMIS                  283693 non-null  int64  \n",
      " 1   DBA                    283689 non-null  object \n",
      " 2   BORO                   283693 non-null  object \n",
      " 3   BUILDING               283388 non-null  object \n",
      " 4   STREET                 283688 non-null  object \n",
      " 5   ZIPCODE                280877 non-null  float64\n",
      " 6   PHONE                  283684 non-null  object \n",
      " 7   CUISINE DESCRIPTION    280635 non-null  object \n",
      " 8   INSPECTION DATE        283693 non-null  object \n",
      " 9   ACTION                 280635 non-null  object \n",
      " 10  VIOLATION CODE         278730 non-null  object \n",
      " 11  VIOLATION DESCRIPTION  278730 non-null  object \n",
      " 12  CRITICAL FLAG          283693 non-null  object \n",
      " 13  SCORE                  268844 non-null  float64\n",
      " 14  GRADE                  138420 non-null  object \n",
      " 15  GRADE DATE             129341 non-null  object \n",
      " 16  RECORD DATE            283693 non-null  object \n",
      " 17  INSPECTION TYPE        280635 non-null  object \n",
      " 18  Latitude               283325 non-null  float64\n",
      " 19  Longitude              283325 non-null  float64\n",
      " 20  Community Board        280330 non-null  float64\n",
      " 21  Council District       280353 non-null  float64\n",
      " 22  Census Tract           280353 non-null  float64\n",
      " 23  BIN                    278958 non-null  float64\n",
      " 24  BBL                    283141 non-null  float64\n",
      " 25  NTA                    280330 non-null  object \n",
      " 26  Location Point1        0 non-null       float64\n",
      "dtypes: float64(10), int64(1), object(16)\n",
      "memory usage: 58.4+ MB\n",
      "None\n",
      "      CAMIS             DBA       BORO BUILDING              STREET  ZIPCODE  \\\n",
      "0  50110288       BAR BRUNO   Brooklyn      560    MANHATTAN AVENUE  11222.0   \n",
      "1  41491686    JOSE SEAFOOD     Queens     8104    ROOSEVELT AVENUE  11372.0   \n",
      "2  50121654       WESTVILLE  Manhattan       88            7 AVENUE  10011.0   \n",
      "3  50064637      MCDONALD'S      Bronx      925  HUNTS POINT AVENUE  10459.0   \n",
      "4  50125519  COMMON ADDRESS  Manhattan      305    WEST   60 STREET  10023.0   \n",
      "\n",
      "        PHONE CUISINE DESCRIPTION INSPECTION DATE  \\\n",
      "0  9177235743             Mexican      10/27/2024   \n",
      "1  6467407130             Seafood      01/09/2025   \n",
      "2  2129242223            American      02/05/2024   \n",
      "3  7182158275          Hamburgers      05/19/2025   \n",
      "4  2672658213          Coffee/Tea      12/28/2023   \n",
      "\n",
      "                                            ACTION  ...  \\\n",
      "0  Violations were cited in the following area(s).  ...   \n",
      "1  Violations were cited in the following area(s).  ...   \n",
      "2  Violations were cited in the following area(s).  ...   \n",
      "3  Violations were cited in the following area(s).  ...   \n",
      "4  Violations were cited in the following area(s).  ...   \n",
      "\n",
      "                                 INSPECTION TYPE   Latitude  Longitude  \\\n",
      "0          Cycle Inspection / Initial Inspection  40.722414 -73.949994   \n",
      "1               Cycle Inspection / Re-inspection  40.747537 -73.884687   \n",
      "2  Pre-permit (Operational) / Initial Inspection  40.739561 -73.998957   \n",
      "3          Cycle Inspection / Initial Inspection  40.820427 -73.890985   \n",
      "4          Cycle Inspection / Initial Inspection  40.772610 -73.990941   \n",
      "\n",
      "   Community Board Council District Census Tract        BIN           BBL  \\\n",
      "0            301.0             33.0      56900.0  3066749.0  3.026800e+09   \n",
      "1            404.0             25.0      26901.0  4036861.0  4.014920e+09   \n",
      "2            104.0              3.0       8100.0  1013775.0  1.007650e+09   \n",
      "3            202.0             17.0       8900.0  2005886.0  2.027350e+09   \n",
      "4            107.0              6.0      15100.0  1088869.0  1.011718e+09   \n",
      "\n",
      "    NTA  Location Point1  \n",
      "0  BK76              NaN  \n",
      "1  QN29              NaN  \n",
      "2  MN13              NaN  \n",
      "3  BX27              NaN  \n",
      "4  MN14              NaN  \n",
      "\n",
      "[5 rows x 27 columns]\n",
      "Index(['CAMIS', 'DBA', 'BORO', 'BUILDING', 'STREET', 'ZIPCODE', 'PHONE',\n",
      "       'CUISINE DESCRIPTION', 'INSPECTION DATE', 'ACTION', 'VIOLATION CODE',\n",
      "       'VIOLATION DESCRIPTION', 'CRITICAL FLAG', 'SCORE', 'GRADE',\n",
      "       'GRADE DATE', 'RECORD DATE', 'INSPECTION TYPE', 'Latitude', 'Longitude',\n",
      "       'Community Board', 'Council District', 'Census Tract', 'BIN', 'BBL',\n",
      "       'NTA', 'Location Point1'],\n",
      "      dtype='object')\n"
     ]
    }
   ],
   "source": [
    "print(df.shape)           # Rows, columns\n",
    "print(df.info())          # Dtypes, nulls\n",
    "print(df.head())          # First few rows\n",
    "print(df.columns)         # Column names"
   ]
  },
  {
   "cell_type": "code",
   "execution_count": 29,
   "id": "f886d225",
   "metadata": {},
   "outputs": [
    {
     "data": {
      "image/png": "[encoded data removed]",
      "text/plain": [
       "<Figure size 1500x500 with 2 Axes>"
      ]
     },
     "metadata": {},
     "output_type": "display_data"
    }
   ],
   "source": [
    "\"\"\"\n",
    "- Showing missing values as colored bars, A chart that shows which columns have missing data and how many rows are affected — a super visual way to spot messy data instantly!\n",
    "- cmap: viridis -> to show purple-green color scheme,\n",
    "- \n",
    "\"\"\"\n",
    "\n",
    "import seaborn as sns\n",
    "import matplotlib.pyplot as plt\n",
    "\n",
    "plt.figure(figsize=(15, 5))\n",
    "sns.heatmap(df.isnull(), cbar=True, yticklabels=False, cmap=\"viridis\")\n",
    "plt.title(\"Missing Values Heatmap\")\n",
    "plt.show()"
   ]
  },
  {
   "cell_type": "code",
   "execution_count": 30,
   "id": "363d9c0d",
   "metadata": {},
   "outputs": [
    {
     "data": {
      "text/plain": [
       "Index(['CAMIS', 'DBA', 'BORO', 'BUILDING', 'STREET', 'ZIPCODE', 'PHONE',\n",
       "       'CUISINE DESCRIPTION', 'INSPECTION DATE', 'ACTION', 'VIOLATION CODE',\n",
       "       'VIOLATION DESCRIPTION', 'CRITICAL FLAG', 'SCORE', 'GRADE',\n",
       "       'GRADE DATE', 'RECORD DATE', 'INSPECTION TYPE', 'Latitude', 'Longitude',\n",
       "       'Community Board', 'Council District', 'Census Tract', 'BIN', 'BBL',\n",
       "       'NTA', 'Location Point1'],\n",
       "      dtype='object')"
      ]
     },
     "execution_count": 30,
     "metadata": {},
     "output_type": "execute_result"
    }
   ],
   "source": [
    "df.columns"
   ]
  },
  {
   "cell_type": "code",
   "execution_count": 31,
   "id": "f5de8ae3",
   "metadata": {},
   "outputs": [
    {
     "data": {
      "image/png": "[encoded data removed]",
      "text/plain": [
       "<Figure size 640x480 with 1 Axes>"
      ]
     },
     "metadata": {},
     "output_type": "display_data"
    }
   ],
   "source": [
    "#Checking Grade Distribution:\n",
    "\"\"\"\n",
    "- CountPlot: Seaborn function that creates a bar plot showing the count of each unique value in a column,\n",
    "- plotting 'Grade' column on the x-axis.\n",
    "- order=df['GRADE'].value_counts().index: to sort the bars by frequency\n",
    "\n",
    "\"\"\"\n",
    "sns.countplot(data=df, x='GRADE', order=df['GRADE'].value_counts().index)\n",
    "plt.title(\"Distribution of Restaurant Grades\")\n",
    "plt.xlabel(\"GRADE\")\n",
    "plt.ylabel(\"Number of Restaurants\")\n",
    "plt.show()"
   ]
  },
  {
   "cell_type": "code",
   "execution_count": 32,
   "id": "6251ded1",
   "metadata": {},
   "outputs": [
    {
     "data": {
      "text/plain": [
       "GRADE\n",
       "A    94836\n",
       "B    16794\n",
       "C    11205\n",
       "N     9083\n",
       "Z     5583\n",
       "P      919\n",
       "Name: count, dtype: int64"
      ]
     },
     "execution_count": 32,
     "metadata": {},
     "output_type": "execute_result"
    }
   ],
   "source": [
    "df['GRADE'].value_counts()"
   ]
  },
  {
   "cell_type": "code",
   "execution_count": 33,
   "id": "c7339367",
   "metadata": {},
   "outputs": [
    {
     "name": "stderr",
     "output_type": "stream",
     "text": [
      "C:\\Users\\priya\\AppData\\Local\\Temp\\ipykernel_10944\\889113868.py:14: FutureWarning: \n",
      "\n",
      "Passing `palette` without assigning `hue` is deprecated and will be removed in v0.14.0. Assign the `x` variable to `hue` and set `legend=False` for the same effect.\n",
      "\n",
      "  ax = sns.countplot(data=df, x='GRADE', order=df['GRADE'].value_counts().index, palette='pastel')\n"
     ]
    },
    {
     "data": {
      "image/png": "[encoded data removed]",
      "text/plain": [
       "<Figure size 800x500 with 1 Axes>"
      ]
     },
     "metadata": {},
     "output_type": "display_data"
    }
   ],
   "source": [
    "\"\"\"\n",
    "- To showcase count of all Grades on top of the chart\n",
    "    - ax.patches gives you all the bars in the plot.\n",
    "    - p.get_height() gets the height of each bar (i.e., the count).\n",
    "    - ax.text(...) places the number just above the bar.\n",
    "\"\"\"\n",
    "\n",
    "\n",
    "import seaborn as sns\n",
    "import matplotlib.pyplot as plt\n",
    "\n",
    "# Create the countplot\n",
    "plt.figure(figsize=(8, 5))\n",
    "ax = sns.countplot(data=df, x='GRADE', order=df['GRADE'].value_counts().index, palette='pastel')\n",
    "\n",
    "# Add text labels on top of each bar\n",
    "for p in ax.patches:\n",
    "    height = p.get_height() # height = count of that bar\n",
    "    ax.text(p.get_x() + p.get_width()/2., height + 100,  # adjust vertical spacing if needed. # y-position: slightly above the bar\n",
    "            int(height), ha=\"center\", fontsize=10) # the actual count text\n",
    "\n",
    "# Add labels and title\n",
    "plt.title(\"Distribution of Restaurant Grades\")\n",
    "plt.xlabel(\"Grade\")\n",
    "plt.ylabel(\"Number of Restaurants\")\n",
    "plt.tight_layout()\n",
    "plt.show()\n"
   ]
  },
  {
   "cell_type": "code",
   "execution_count": 34,
   "id": "9b63d8cc",
   "metadata": {},
   "outputs": [],
   "source": [
    "# Checking Top Cuisines in NYC:"
   ]
  },
  {
   "cell_type": "code",
   "execution_count": 35,
   "id": "39acd003",
   "metadata": {},
   "outputs": [
    {
     "data": {
      "text/plain": [
       "Index(['CAMIS', 'DBA', 'BORO', 'BUILDING', 'STREET', 'ZIPCODE', 'PHONE',\n",
       "       'CUISINE DESCRIPTION', 'INSPECTION DATE', 'ACTION', 'VIOLATION CODE',\n",
       "       'VIOLATION DESCRIPTION', 'CRITICAL FLAG', 'SCORE', 'GRADE',\n",
       "       'GRADE DATE', 'RECORD DATE', 'INSPECTION TYPE', 'Latitude', 'Longitude',\n",
       "       'Community Board', 'Council District', 'Census Tract', 'BIN', 'BBL',\n",
       "       'NTA', 'Location Point1'],\n",
       "      dtype='object')"
      ]
     },
     "execution_count": 35,
     "metadata": {},
     "output_type": "execute_result"
    }
   ],
   "source": [
    "df.columns"
   ]
  },
  {
   "cell_type": "code",
   "execution_count": 36,
   "id": "ce0b05c9",
   "metadata": {},
   "outputs": [
    {
     "data": {
      "text/plain": [
       "CUISINE DESCRIPTION\n",
       "American          45112\n",
       "Chinese           27353\n",
       "Coffee/Tea        19993\n",
       "Pizza             17171\n",
       "Latin American    12220\n",
       "                  ...  \n",
       "Chilean              32\n",
       "Czech                13\n",
       "Haute Cuisine         5\n",
       "Chimichurri           2\n",
       "Southwestern          2\n",
       "Name: count, Length: 89, dtype: int64"
      ]
     },
     "execution_count": 36,
     "metadata": {},
     "output_type": "execute_result"
    }
   ],
   "source": [
    "df['CUISINE DESCRIPTION'].value_counts()"
   ]
  },
  {
   "cell_type": "code",
   "execution_count": 48,
   "id": "e56aa77b",
   "metadata": {},
   "outputs": [
    {
     "name": "stderr",
     "output_type": "stream",
     "text": [
      "C:\\Users\\priya\\AppData\\Local\\Temp\\ipykernel_10944\\3711606180.py:13: FutureWarning: \n",
      "\n",
      "Passing `palette` without assigning `hue` is deprecated and will be removed in v0.14.0. Assign the `y` variable to `hue` and set `legend=False` for the same effect.\n",
      "\n",
      "  sns.barplot(y=top_cuisines.index, x=top_cuisines.values, palette='pastel')\n"
     ]
    },
    {
     "data": {
      "image/png": "[encoded data removed]",
      "text/plain": [
       "<Figure size 640x480 with 1 Axes>"
      ]
     },
     "metadata": {},
     "output_type": "display_data"
    }
   ],
   "source": [
    "\"\"\"\n",
    "    - barplot to use when pre-aggregated data and not using raw data directly. Works with series.\n",
    "    - sns.barplot() creates a horizontal bar plot. It needs one list for y-axis and one list for x-axis.\n",
    "    - top_cuisines.index = names of the cuisines like 'American','Chinese',etc. Note: top_cuisines is a pandas series.\n",
    "    - top_cuisines.values = list of values showing how many restaurants serve each cuisine type.\n",
    "    - .index = list of cuisine names\n",
    "    - .values = list of how many restaurants serve each\n",
    "    - palette='pastel' a color theme that gives your plots soft, light-toned colors instead of bold or dark shades.\n",
    "    \n",
    "\"\"\"\n",
    "\n",
    "top_cuisines = df['CUISINE DESCRIPTION'].value_counts().head(20) #Creating top_cuisines pandas series\n",
    "sns.barplot(y=top_cuisines.index, x=top_cuisines.values, palette='pastel')\n",
    "plt.title(\"Top 20 most common Cuisines in NYC\")\n",
    "plt.xlabel(\"Number of Restaurants\")\n",
    "plt.ylabel(\"Cuisine Type\")\n",
    "plt.show()"
   ]
  },
  {
   "cell_type": "code",
   "execution_count": null,
   "id": "fe1390e3",
   "metadata": {},
   "outputs": [
    {
     "data": {
      "text/plain": [
       "pandas.core.series.Series"
      ]
     },
     "execution_count": 15,
     "metadata": {},
     "output_type": "execute_result"
    }
   ],
   "source": [
    "type(top_cuisines)"
   ]
  },
  {
   "cell_type": "code",
   "execution_count": null,
   "id": "93f2134e",
   "metadata": {},
   "outputs": [
    {
     "data": {
      "text/plain": [
       "Index(['American', 'Chinese', 'Coffee/Tea', 'Pizza', 'Latin American',\n",
       "       'Mexican', 'Bakery Products/Desserts', 'Caribbean', 'Japanese',\n",
       "       'Italian'],\n",
       "      dtype='object', name='CUISINE DESCRIPTION')"
      ]
     },
     "execution_count": 16,
     "metadata": {},
     "output_type": "execute_result"
    }
   ],
   "source": [
    "top_cuisines.index"
   ]
  },
  {
   "cell_type": "code",
   "execution_count": null,
   "id": "57a64963",
   "metadata": {},
   "outputs": [
    {
     "data": {
      "text/plain": [
       "array([45112, 27353, 19993, 17171, 12220, 11533, 11182, 10313,  9652,\n",
       "        9246])"
      ]
     },
     "execution_count": 17,
     "metadata": {},
     "output_type": "execute_result"
    }
   ],
   "source": [
    "top_cuisines.values"
   ]
  },
  {
   "cell_type": "code",
   "execution_count": null,
   "id": "21adcf52",
   "metadata": {},
   "outputs": [
    {
     "data": {
      "text/plain": [
       "CUISINE DESCRIPTION\n",
       "American                    45112\n",
       "Chinese                     27353\n",
       "Coffee/Tea                  19993\n",
       "Pizza                       17171\n",
       "Latin American              12220\n",
       "Mexican                     11533\n",
       "Bakery Products/Desserts    11182\n",
       "Caribbean                   10313\n",
       "Japanese                     9652\n",
       "Italian                      9246\n",
       "Name: count, dtype: int64"
      ]
     },
     "execution_count": 18,
     "metadata": {},
     "output_type": "execute_result"
    }
   ],
   "source": [
    "top_cuisines"
   ]
  },
  {
   "cell_type": "code",
   "execution_count": null,
   "id": "0a030f14",
   "metadata": {},
   "outputs": [],
   "source": []
  }
 ],
 "metadata": {
  "kernelspec": {
   "display_name": "Python 3",
   "language": "python",
   "name": "python3"
  },
  "language_info": {
   "codemirror_mode": {
    "name": "ipython",
    "version": 3
   },
   "file_extension": ".py",
   "mimetype": "text/x-python",
   "name": "python",
   "nbconvert_exporter": "python",
   "pygments_lexer": "ipython3",
   "version": "3.9.0"
  }
 },
 "nbformat": 4,
 "nbformat_minor": 5
}
